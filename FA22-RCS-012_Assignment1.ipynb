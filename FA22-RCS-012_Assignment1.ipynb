{
 "cells": [
  {
   "cell_type": "code",
   "execution_count": 55,
   "id": "29aedad1-db90-457d-9d10-29e4ed9259a2",
   "metadata": {},
   "outputs": [
    {
     "name": "stdout",
     "output_type": "stream",
     "text": [
      "[27, 125, 343, 512, 1728]\n"
     ]
    }
   ],
   "source": [
    "\"\"\"Task 1: Lists, Dictionaries, Tuples\n",
    "1.1. Creaye a list: nums = [3, 5, 7, 8, 12], make another list named ‘cubes’ and append the cubes of the given list ‘nums’\n",
    "in this list and print it.\"\"\"\n",
    "nums = [3, 5, 7, 8, 12]\n",
    "cubes = []\n",
    "for num in nums:\n",
    "    cubes.append(num**3)\n",
    "print(cubes)"
   ]
  },
  {
   "cell_type": "code",
   "execution_count": 56,
   "id": "0044dc48-7b28-4217-922f-401ef63153fb",
   "metadata": {},
   "outputs": [
    {
     "name": "stdout",
     "output_type": "stream",
     "text": [
      "{'parrot': 2, 'goat': 4, 'spider': 8, 'crab': 10}\n"
     ]
    }
   ],
   "source": [
    "\"\"\"1.2. Create an empty dictionary: dict = {}, add the following data to the dictionary: ‘parrot’: 2, ‘goat’: 4, ‘spider’: 8, ‘crab’:\n",
    "10 as key value pairs.\"\"\"\n",
    "dict = {}\n",
    "dict['parrot'] = 2\n",
    "dict['goat'] = 4\n",
    "dict['spider'] = 8\n",
    "dict['crab'] = 10\n",
    "print(dict)"
   ]
  },
  {
   "cell_type": "code",
   "execution_count": 57,
   "id": "9795725e-57f6-4270-9641-25665336c3dd",
   "metadata": {},
   "outputs": [
    {
     "name": "stdout",
     "output_type": "stream",
     "text": [
      "parrot: 2\n",
      "goat: 4\n",
      "spider: 8\n",
      "crab: 10\n",
      "Total number of legs: 24\n"
     ]
    }
   ],
   "source": [
    "\"\"\"1.3. Use the ‘items’ method to loop over the dictionary (dict) and print the animals and their corresponding legs. Sum\n",
    "the legs of each animal, and print the total at the end.\"\"\"\n",
    "dict = {'parrot': 2, 'goat': 4, 'spider': 8, 'crab': 10}\n",
    "total_legs = 0\n",
    "for animal, legs in dict.items():\n",
    "    print(f\"{animal}: {legs}\")\n",
    "    total_legs += legs\n",
    "print(f\"Total number of legs: {total_legs}\")"
   ]
  },
  {
   "cell_type": "code",
   "execution_count": 58,
   "id": "e853199a-f8af-4eff-944f-81997e9f2f2c",
   "metadata": {},
   "outputs": [
    {
     "name": "stdout",
     "output_type": "stream",
     "text": [
      "(3, 9, 4, [8, 6])\n"
     ]
    }
   ],
   "source": [
    "\"\"\"1.4. Create a tuple: A = (3, 9, 4, [5, 6]), change the value in the list from ‘5’ to ‘8’.\"\"\"\n",
    "A = (3, 9, 4, [5, 6])\n",
    "A[3][0] = 8\n",
    "print(A)"
   ]
  },
  {
   "cell_type": "code",
   "execution_count": 59,
   "id": "272f824f-c5cd-41fd-8a46-bfd24aa553d2",
   "metadata": {},
   "outputs": [],
   "source": [
    "\"\"\"1.5. Delete the tuple A.\"\"\"\n",
    "A = (3, 9, 4, [5, 6])\n",
    "# After deletition of the tuple A there will be not exist any data in tuple A\n",
    "del A"
   ]
  },
  {
   "cell_type": "code",
   "execution_count": 60,
   "id": "fdaca5d8-3545-496c-997f-d757f689f934",
   "metadata": {},
   "outputs": [
    {
     "name": "stdout",
     "output_type": "stream",
     "text": [
      "The number of occurrences of 'p': 2\n"
     ]
    }
   ],
   "source": [
    "\"\"\"1.6. Create another tuple: B = (‘a’, ‘p’, ‘p’, ‘l’, ‘e’), print the number of occurrences of ‘p’ in the tuple.\"\"\"\n",
    "B = ('a', 'p', 'p', 'l', 'e')\n",
    "count_p = B.count('p')\n",
    "print(f\"The number of occurrences of 'p': {count_p}\")"
   ]
  },
  {
   "cell_type": "code",
   "execution_count": 61,
   "id": "ad27d872-8856-4e8a-a24e-edfefd5028c0",
   "metadata": {},
   "outputs": [
    {
     "name": "stdout",
     "output_type": "stream",
     "text": [
      "The index of 'l': 3\n"
     ]
    }
   ],
   "source": [
    "\"\"\"1.7. Print the index of ‘l’ in the tuple.\"\"\"\n",
    "B = ('a', 'p', 'p', 'l', 'e')\n",
    "index_l = B.index('l')\n",
    "print(f\"The index of 'l': {index_l}\")"
   ]
  },
  {
   "cell_type": "code",
   "execution_count": 62,
   "id": "0fd9391e-0e1d-440b-84ab-f4b0cf7644b0",
   "metadata": {},
   "outputs": [
    {
     "name": "stdout",
     "output_type": "stream",
     "text": [
      "Matrix A as numpy array:\n",
      " [[ 1  2  3  4]\n",
      " [ 5  6  7  8]\n",
      " [ 9 10 11 12]]\n"
     ]
    }
   ],
   "source": [
    "\"\"\"Task 2: Numpy\n",
    "Use built-in functions of numpy library to complete this task.\n",
    "2.1 Convert matrix A into numpy array \"\"\"\n",
    "import numpy as np\n",
    "A = [[1, 2, 3, 4], \n",
    "     [5, 6, 7, 8], \n",
    "     [9, 10, 11, 12]]\n",
    "# Converting matrix  into an numpy array\n",
    "A_array = np.array(A)\n",
    "z = np.array([1, 0, 1])\n",
    "print(\"Matrix A as numpy array:\\n\", A_array)"
   ]
  },
  {
   "cell_type": "code",
   "execution_count": 63,
   "id": "7833abde-9806-4cf8-a4ee-ead0d54fba30",
   "metadata": {},
   "outputs": [
    {
     "name": "stdout",
     "output_type": "stream",
     "text": [
      "Subarray b:\n",
      " [[2 3]\n",
      " [6 7]]\n",
      "Shape of b is : (2, 2)\n"
     ]
    }
   ],
   "source": [
    "\"\"\" 2.2 Use slicing to pull out the subarray consisting of the first 2 rows and columns 1 and 2. Store it in b which is a numpy\n",
    "array of shape (2, 2).\"\"\"\n",
    "import numpy as np\n",
    "A = np.array([[1, 2, 3, 4], \n",
    "              [5, 6, 7, 8], \n",
    "              [9, 10, 11, 12]])\n",
    "b = A[:2, 1:3]\n",
    "print(\"Subarray b:\\n\", b)\n",
    "print(\"Shape of b is :\", b.shape)"
   ]
  },
  {
   "cell_type": "code",
   "execution_count": 64,
   "id": "cc29d1d7-cec0-4e53-aaf6-ecd3cd5fe772",
   "metadata": {},
   "outputs": [
    {
     "name": "stdout",
     "output_type": "stream",
     "text": [
      "Shape of C: (3, 4)\n"
     ]
    }
   ],
   "source": [
    "\"\"\" 2.3 Create an empty matrix ‘C’ with the same shape as ‘A’.\"\"\"\n",
    "import numpy as np\n",
    "A = np.array([[1, 2, 3, 4], \n",
    "              [5, 6, 7, 8], \n",
    "              [9, 10, 11, 12]])\n",
    "C = np.empty_like(A)\n",
    "print(\"Shape of C:\", C.shape)"
   ]
  },
  {
   "cell_type": "code",
   "execution_count": 65,
   "id": "a44f77ae-966e-46d9-8151-b4f3a6123b12",
   "metadata": {},
   "outputs": [
    {
     "name": "stdout",
     "output_type": "stream",
     "text": [
      "\n",
      "Vector z: (3,)\n",
      "Matrix C after adding vector z to each column of matrix A:\n",
      " [[ 2  3  4  5]\n",
      " [ 5  6  7  8]\n",
      " [10 11 12 13]]\n"
     ]
    }
   ],
   "source": [
    "\"\"\"2.4 Add the vector z to each column of the matrix ‘A’ with an explicit loop and store it in ‘C’.\"\"\"\n",
    "import numpy as np\n",
    "A = np.array([[1, 2, 3, 4], \n",
    "              [5, 6, 7, 8], \n",
    "              [9, 10, 11, 12]])\n",
    "z = np.array([1, 0, 1])\n",
    "C = np.empty_like(A)\n",
    "for i in range(A.shape[1]):\n",
    "    C[:, i] = A[:, i] + z\n",
    "print(\"\\nVector z:\", z.shape)\n",
    "print(\"Matrix C after adding vector z to each column of matrix A:\\n\", C)"
   ]
  },
  {
   "cell_type": "code",
   "execution_count": 66,
   "id": "f1546d64-ccda-422b-ba69-e0160b9f73cc",
   "metadata": {},
   "outputs": [
    {
     "name": "stdout",
     "output_type": "stream",
     "text": [
      "Array X:\n",
      " [[1 2]\n",
      " [3 4]]\n",
      "Array Y:\n",
      " [[5 6]\n",
      " [7 8]]\n",
      "Array v:\n",
      " [ 9 10]\n"
     ]
    }
   ],
   "source": [
    "\"\"\" Create the following:\n",
    "X = np.array([[1,2],[3,4]])\n",
    "Y = np.array([[5,6],[7,8]])\n",
    "v = np.array([9,10]) \"\"\"\n",
    "# Creating the arrays\n",
    "X = np.array([[1, 2], [3, 4]])\n",
    "Y = np.array([[5, 6], [7, 8]])\n",
    "v = np.array([9, 10])\n",
    "print(\"Array X:\\n\", X)\n",
    "print(\"Array Y:\\n\", Y)\n",
    "print(\"Array v:\\n\", v)"
   ]
  },
  {
   "cell_type": "code",
   "execution_count": 67,
   "id": "63e46c2e-aab2-4b14-85fc-ea53fd75da50",
   "metadata": {},
   "outputs": [
    {
     "name": "stdout",
     "output_type": "stream",
     "text": [
      "Sum of X and Y:\n",
      " [[ 6  8]\n",
      " [10 12]]\n"
     ]
    }
   ],
   "source": [
    "\"\"\"2.5 Add and print the matrices X and Y.\"\"\"\n",
    "SuM_XY = X + Y\n",
    "print(\"Sum of X and Y:\\n\", SuM_XY)"
   ]
  },
  {
   "cell_type": "code",
   "execution_count": 68,
   "id": "49c3c43b-6917-4c5a-aada-f513cd1808ef",
   "metadata": {},
   "outputs": [
    {
     "name": "stdout",
     "output_type": "stream",
     "text": [
      "Element-wise multiplication of X and Y:\n",
      " [[ 5 12]\n",
      " [21 32]]\n"
     ]
    }
   ],
   "source": [
    "\"\"\"2.6 Multiply and print the matrices X and Y.\"\"\"\n",
    "Prod_XY = X * Y\n",
    "print(\"Element-wise multiplication of X and Y:\\n\", Prod_XY)"
   ]
  },
  {
   "cell_type": "code",
   "execution_count": 69,
   "id": "74e63b29-27ef-4b54-806f-59ea11741aa5",
   "metadata": {},
   "outputs": [
    {
     "name": "stdout",
     "output_type": "stream",
     "text": [
      "Element-wise square root of Y:\n",
      " [[2.23606798 2.44948974]\n",
      " [2.64575131 2.82842712]]\n"
     ]
    }
   ],
   "source": [
    "\"\"\"2.7 Compute and print the element wise square root of matrix Y.\"\"\"\n",
    "Sqroot_Y = np.sqrt(Y)\n",
    "print(\"Element-wise square root of Y:\\n\", Sqroot_Y)"
   ]
  },
  {
   "cell_type": "code",
   "execution_count": 70,
   "id": "8d847321-5657-4c49-8fcc-90e672b52986",
   "metadata": {},
   "outputs": [
    {
     "name": "stdout",
     "output_type": "stream",
     "text": [
      "Dot product of X and v:\n",
      " [29 67]\n"
     ]
    }
   ],
   "source": [
    "\"\"\"2.8 Compute and print the dot product of the matrix X and vector v.\"\"\"\n",
    "DoT_Prod_Xv = np.dot(X, v[:X.shape[1]])\n",
    "print(\"Dot product of X and v:\\n\", DoT_Prod_Xv)"
   ]
  },
  {
   "cell_type": "code",
   "execution_count": 71,
   "id": "e0177b25-563e-4c58-af7c-178790f0093f",
   "metadata": {},
   "outputs": [
    {
     "name": "stdout",
     "output_type": "stream",
     "text": [
      "Sum of each column of X:\n",
      " [4 6]\n"
     ]
    }
   ],
   "source": [
    "\"\"\"2.9 Compute and print the sum of each column of X.\"\"\"\n",
    "Sum_Of_Column_X = np.sum(X, axis=0)\n",
    "print(\"Sum of each column of X:\\n\", Sum_Of_Column_X)"
   ]
  },
  {
   "cell_type": "code",
   "execution_count": 72,
   "id": "45fe987c-f7b9-42e1-aa06-f9fc80c59fc3",
   "metadata": {},
   "outputs": [
    {
     "name": "stdout",
     "output_type": "stream",
     "text": [
      "Velocity: 5.0 m/s\n"
     ]
    }
   ],
   "source": [
    "\"\"\"Task 3: Functions and Loops\n",
    "3.1 Create a function ‘Compute’ that takes two arguments, distance and time, and use it to calculate velocity.\"\"\"\n",
    "def Compute(Dis, T):\n",
    "    if T == 0:\n",
    "        raise ValueError(\"Time cannot be zero for velocity !!!\")\n",
    "    velocity = Dis / T\n",
    "    return velocity\n",
    "Dis = 100 \n",
    "T = 20 \n",
    "velocity = Compute(Dis, T)\n",
    "print(f\"Velocity: {velocity} m/s\")"
   ]
  },
  {
   "cell_type": "code",
   "execution_count": 73,
   "id": "7e52828c-d71d-4f7f-924b-8c99920a3698",
   "metadata": {},
   "outputs": [
    {
     "name": "stdout",
     "output_type": "stream",
     "text": [
      "List of even numbers: [2, 4, 6, 8, 10, 12]\n",
      "Product of all even entries in above list: 46080\n"
     ]
    }
   ],
   "source": [
    "\"\"\"3.2 Make a list named ‘even_num’ that contains all even numbers up till 12. Create a function ‘mult’ that takes the list\n",
    "‘even_num’ as an argument and calculates the products of all entries using a for loop.\"\"\"\n",
    "def mult(numbers):\n",
    "    Prod = 1\n",
    "    for num in numbers:\n",
    "        Prod *= num\n",
    "    return Prod\n",
    "even_num = [i for i in range(2, 13, 2)]\n",
    "product_of_even_num = mult(even_num)\n",
    "print(f\"List of even numbers: {even_num}\")\n",
    "print(f\"Product of all even entries in above list: {product_of_even_num}\")"
   ]
  },
  {
   "cell_type": "code",
   "execution_count": 74,
   "id": "06bc4526-4754-499c-bcc8-6c52446dd8ce",
   "metadata": {},
   "outputs": [],
   "source": [
    "\"\"\"Task 4: Pandas\n",
    "Create a Pandas dataframe named ‘pd’ that contains 5 rows and 4 columns,\"\"\"\n",
    "import pandas as pd\n",
    "data = {\n",
    "    'C1': [1, 2, 3, 5, 5],\n",
    "    'C2': [6, 7, 5, 4, 8],\n",
    "    'C3': [7, 9, 8, 6, 5],\n",
    "    'C4': [7, 5, 2, 8, 8]\n",
    "}\n",
    "# Creating the dataframe\n",
    "df = pd.DataFrame(data)"
   ]
  },
  {
   "cell_type": "code",
   "execution_count": 75,
   "id": "c262d3e1-be7d-4943-b37a-2249b007a3c7",
   "metadata": {},
   "outputs": [
    {
     "name": "stdout",
     "output_type": "stream",
     "text": [
      "First two rows:\n",
      "    C1  C2  C3  C4\n",
      "0   1   6   7   7\n",
      "1   2   7   9   5\n"
     ]
    }
   ],
   "source": [
    "\"\"\"4.1 Print only the first two rows of the dataframe.\"\"\"\n",
    "print(\"First two rows:\\n\", df.head(2))"
   ]
  },
  {
   "cell_type": "code",
   "execution_count": 76,
   "id": "c679d3e0-c63a-4fe8-a0dd-aef1c4ba5b0e",
   "metadata": {},
   "outputs": [
    {
     "name": "stdout",
     "output_type": "stream",
     "text": [
      "Second column (C2):\n",
      " 0    6\n",
      "1    7\n",
      "2    5\n",
      "3    4\n",
      "4    8\n",
      "Name: C2, dtype: int64\n"
     ]
    }
   ],
   "source": [
    "\"\"\"4.2 Print the second column.\"\"\"\n",
    "print(\"Second column (C2):\\n\", df['C2'])"
   ]
  },
  {
   "cell_type": "code",
   "execution_count": 77,
   "id": "d0a84f91-2eb0-4332-a250-109cc7776a88",
   "metadata": {},
   "outputs": [
    {
     "name": "stdout",
     "output_type": "stream",
     "text": [
      "\n",
      "DataFrame after renaming C3 to B3:\n",
      "    C1  C2  B3  C4\n",
      "0   1   6   7   7\n",
      "1   2   7   9   5\n",
      "2   3   5   8   2\n",
      "3   5   4   6   8\n",
      "4   5   8   5   8\n"
     ]
    }
   ],
   "source": [
    "\"\"\"4.3 Change the name of the third column from ‘C3’ to ‘B3’.\"\"\"\n",
    "df = df.rename(columns={'C3': 'B3'})\n",
    "print(\"\\nDataFrame after renaming C3 to B3:\\n\", df)"
   ]
  },
  {
   "cell_type": "code",
   "execution_count": 78,
   "id": "fe2b3f40-5148-4f09-97e0-73eec3275b0c",
   "metadata": {},
   "outputs": [],
   "source": [
    "\"\"\"4.4 Add a new column to the dataframe and name it ‘Sum’.\"\"\"\n",
    "df['Sum'] = df.sum(axis=1)"
   ]
  },
  {
   "cell_type": "code",
   "execution_count": 79,
   "id": "fd8c1ecf-3183-4a83-ba52-63988a73c541",
   "metadata": {},
   "outputs": [
    {
     "name": "stdout",
     "output_type": "stream",
     "text": [
      "\n",
      "DataFrame with 'Sum' column:\n",
      "    C1  C2  B3  C4  Sum\n",
      "0   1   6   7   7   21\n",
      "1   2   7   9   5   23\n",
      "2   3   5   8   2   18\n",
      "3   5   4   6   8   23\n",
      "4   5   8   5   8   26\n"
     ]
    }
   ],
   "source": [
    "\"\"\"4.5 Sum the entries of each row and add the result in the column ‘Sum’.\"\"\"\n",
    "print(\"\\nDataFrame with 'Sum' column:\\n\", df)"
   ]
  },
  {
   "cell_type": "code",
   "execution_count": 80,
   "id": "f5cf1347-cd1b-4dd9-9360-3b6bc846ced3",
   "metadata": {},
   "outputs": [],
   "source": [
    "\"\"\"4.6 Read CSV file named ‘hello_sample.csv’into a Pandasdataframe.\n",
    "4.7 Print complete dataframe.\"\"\"\n",
    "import pandas as pd\n",
    "df = pd.read_csv('hello_sample.csv')"
   ]
  },
  {
   "cell_type": "code",
   "execution_count": 81,
   "id": "d4fafd2a-6b30-4798-8993-0ea7262d84e9",
   "metadata": {},
   "outputs": [
    {
     "name": "stdout",
     "output_type": "stream",
     "text": [
      "Complete DataFrame:\n",
      "     Gender  F_Color     B_Month  Weight\n",
      "0     Male    Black       March      77\n",
      "1     Male      Red       March      72\n",
      "2     Male    Black     October      53\n",
      "3   Female     Blue    February      63\n",
      "4     Male    black    October       80\n",
      "5   Female    Black    december      97\n",
      "6     Male   Orange      August      60\n",
      "7   Female      Red   September      59\n",
      "8     Male     Blue        July      60\n",
      "9     Male     Blue         May      58\n",
      "10  Female      Red    October       60\n",
      "11    Male    Black   September      65\n",
      "12    Male    Green    December      85\n",
      "13    Male    Black       April      72\n",
      "14    Male    Green    January       90\n",
      "15    Male   Yellow   November       90\n",
      "16    Male    Black      August      54\n",
      "17    Male    Black     January      82\n",
      "18    Male  Mustard   December       60\n",
      "19  Female    Black    October       76\n",
      "20    Male    Black   February       67\n",
      "21    Male   Yellow       April      74\n",
      "22    Male      Red  September       66\n"
     ]
    }
   ],
   "source": [
    "\"\"\" 4.7 Print complete dataframe.\"\"\"\n",
    "print(\"Complete DataFrame:\\n\", df)"
   ]
  },
  {
   "cell_type": "code",
   "execution_count": 82,
   "id": "c842ddd8-ecb7-40cd-abc3-2735cb20a27a",
   "metadata": {},
   "outputs": [
    {
     "name": "stdout",
     "output_type": "stream",
     "text": [
      "   Gender F_Color     B_Month  Weight\n",
      "21   Male  Yellow       April      74\n",
      "22   Male     Red  September       66\n"
     ]
    }
   ],
   "source": [
    "\"\"\" 4.8 Print only bottom 2 records of the dataframe.\"\"\"\n",
    "print(df.tail(2))"
   ]
  },
  {
   "cell_type": "code",
   "execution_count": 83,
   "id": "0d6c6567-a399-4e8f-aa99-361622dafd6b",
   "metadata": {},
   "outputs": [
    {
     "name": "stdout",
     "output_type": "stream",
     "text": [
      "<class 'pandas.core.frame.DataFrame'>\n",
      "RangeIndex: 23 entries, 0 to 22\n",
      "Data columns (total 4 columns):\n",
      " #   Column   Non-Null Count  Dtype \n",
      "---  ------   --------------  ----- \n",
      " 0   Gender   23 non-null     object\n",
      " 1   F_Color  23 non-null     object\n",
      " 2   B_Month  23 non-null     object\n",
      " 3   Weight   23 non-null     int64 \n",
      "dtypes: int64(1), object(3)\n",
      "memory usage: 868.0+ bytes\n",
      "None\n"
     ]
    }
   ],
   "source": [
    "\"\"\" 4.9 Print information about the dataframe.\"\"\"\n",
    "print(df.info())"
   ]
  },
  {
   "cell_type": "code",
   "execution_count": 84,
   "id": "401ff9b6-8e41-4784-92da-49b388e30ea1",
   "metadata": {},
   "outputs": [
    {
     "name": "stdout",
     "output_type": "stream",
     "text": [
      "(23, 4)\n"
     ]
    }
   ],
   "source": [
    "\"\"\"4.10 Print shape (rows x columns) of the dataframe.\"\"\"\n",
    "print(df.shape)"
   ]
  },
  {
   "cell_type": "code",
   "execution_count": 85,
   "id": "31fb1e76-ceda-4609-933b-1a8dbdfd3da4",
   "metadata": {},
   "outputs": [
    {
     "name": "stdout",
     "output_type": "stream",
     "text": [
      "    Gender  F_Color     B_Month  Weight\n",
      "2     Male    Black     October      53\n",
      "16    Male    Black      August      54\n",
      "9     Male     Blue         May      58\n",
      "7   Female      Red   September      59\n",
      "18    Male  Mustard   December       60\n",
      "10  Female      Red    October       60\n",
      "6     Male   Orange      August      60\n",
      "8     Male     Blue        July      60\n",
      "3   Female     Blue    February      63\n",
      "11    Male    Black   September      65\n",
      "22    Male      Red  September       66\n",
      "20    Male    Black   February       67\n",
      "13    Male    Black       April      72\n",
      "1     Male      Red       March      72\n",
      "21    Male   Yellow       April      74\n",
      "19  Female    Black    October       76\n",
      "0     Male    Black       March      77\n",
      "4     Male    black    October       80\n",
      "17    Male    Black     January      82\n",
      "12    Male    Green    December      85\n",
      "14    Male    Green    January       90\n",
      "15    Male   Yellow   November       90\n",
      "5   Female    Black    december      97\n"
     ]
    }
   ],
   "source": [
    "\"\"\" 4.11 Sort the data of the dataFrame using column ‘Weight’.\"\"\"\n",
    "df_sorted = df.sort_values(by='Weight')\n",
    "print(df_sorted)"
   ]
  },
  {
   "cell_type": "code",
   "execution_count": 86,
   "id": "3d58c573-c8c8-4a6c-a766-8a3bfb771af4",
   "metadata": {},
   "outputs": [
    {
     "name": "stdout",
     "output_type": "stream",
     "text": [
      "Missing values in the DataFrame:\n",
      "    Gender  F_Color  B_Month  Weight\n",
      "0    False    False    False   False\n",
      "1    False    False    False   False\n",
      "2    False    False    False   False\n",
      "3    False    False    False   False\n",
      "4    False    False    False   False\n",
      "5    False    False    False   False\n",
      "6    False    False    False   False\n",
      "7    False    False    False   False\n",
      "8    False    False    False   False\n",
      "9    False    False    False   False\n",
      "10   False    False    False   False\n",
      "11   False    False    False   False\n",
      "12   False    False    False   False\n",
      "13   False    False    False   False\n",
      "14   False    False    False   False\n",
      "15   False    False    False   False\n",
      "16   False    False    False   False\n",
      "17   False    False    False   False\n",
      "18   False    False    False   False\n",
      "19   False    False    False   False\n",
      "20   False    False    False   False\n",
      "21   False    False    False   False\n",
      "22   False    False    False   False\n",
      "\n",
      "DataFrame after dropping missing values:\n",
      "    Gender  F_Color     B_Month  Weight\n",
      "0     Male    Black       March      77\n",
      "1     Male      Red       March      72\n",
      "2     Male    Black     October      53\n",
      "3   Female     Blue    February      63\n",
      "4     Male    black    October       80\n",
      "5   Female    Black    december      97\n",
      "6     Male   Orange      August      60\n",
      "7   Female      Red   September      59\n",
      "8     Male     Blue        July      60\n",
      "9     Male     Blue         May      58\n",
      "10  Female      Red    October       60\n",
      "11    Male    Black   September      65\n",
      "12    Male    Green    December      85\n",
      "13    Male    Black       April      72\n",
      "14    Male    Green    January       90\n",
      "15    Male   Yellow   November       90\n",
      "16    Male    Black      August      54\n",
      "17    Male    Black     January      82\n",
      "18    Male  Mustard   December       60\n",
      "19  Female    Black    October       76\n",
      "20    Male    Black   February       67\n",
      "21    Male   Yellow       April      74\n",
      "22    Male      Red  September       66\n",
      "\n",
      "No changes were made: No missing values were found.\n"
     ]
    }
   ],
   "source": [
    "\"\"\"4.12 Use isnull() and dropna() methods of the Pandas dataframe and see if they produce any changes.\"\"\"\n",
    "missing_values = df.isnull()\n",
    "print(\"Missing values in the DataFrame:\")\n",
    "print(missing_values)\n",
    "df_dropped = df.dropna()\n",
    "print(\"\\nDataFrame after dropping missing values:\")\n",
    "print(df_dropped)\n",
    "if df.shape != df_dropped.shape:\n",
    "    print(\"\\nChanges were made: Rows with missing values were removed.\")\n",
    "else:\n",
    "    print(\"\\nNo changes were made: No missing values were found.\")"
   ]
  }
 ],
 "metadata": {
  "kernelspec": {
   "display_name": "Python 3 (ipykernel)",
   "language": "python",
   "name": "python3"
  },
  "language_info": {
   "codemirror_mode": {
    "name": "ipython",
    "version": 3
   },
   "file_extension": ".py",
   "mimetype": "text/x-python",
   "name": "python",
   "nbconvert_exporter": "python",
   "pygments_lexer": "ipython3",
   "version": "3.12.4"
  }
 },
 "nbformat": 4,
 "nbformat_minor": 5
}
